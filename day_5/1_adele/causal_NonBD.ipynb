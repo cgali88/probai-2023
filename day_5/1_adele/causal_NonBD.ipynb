{
  "cells": [
    {
      "attachments": {},
      "cell_type": "markdown",
      "metadata": {
        "id": "VJh1nQ5yCoA6"
      },
      "source": [
        "# Causal Inference"
      ]
    },
    {
      "attachments": {},
      "cell_type": "markdown",
      "metadata": {
        "id": "J1lHVMs6CjIk"
      },
      "source": [
        "In this notebook we will work with an example of the the pipeline of Causal Inference. We will proceed with the following steps:\n",
        "1. Create a causal model\n",
        "2. Simulate data from a causal model\n",
        "3. Run a causal effect identification\n",
        "\n"
      ]
    },
    {
      "attachments": {},
      "cell_type": "markdown",
      "metadata": {
        "id": "HnqnnK8eCxZP"
      },
      "source": [
        "### Installing R packages (colab)"
      ]
    },
    {
      "cell_type": "code",
      "execution_count": 6,
      "metadata": {
        "colab": {
          "base_uri": "https://localhost:8080/"
        },
        "id": "rCEtur7fajGn",
        "outputId": "ffa66bc5-a688-4a24-874f-067a869a0f17"
      },
      "outputs": [
        {
          "name": "stderr",
          "output_type": "stream",
          "text": [
            "Warning message in system(\"python3 -c \\\"from google.colab import drive\\ndrive.mount()\\\"\", :\n",
            "“running command 'python3 -c \"from google.colab import drive\n",
            "drive.mount()\"' had status 1”\n"
          ]
        },
        {
          "name": "stdout",
          "output_type": "stream",
          "text": [
            "\n",
            "TRUE\n"
          ]
        }
      ],
      "source": [
        "cat(system('python3 -c \"from google.colab import drive\\ndrive.mount()\"', intern=TRUE), sep='\\n', wait=TRUE)"
      ]
    },
    {
      "cell_type": "code",
      "execution_count": 5,
      "metadata": {
        "id": "3o11KxDzyC0g"
      },
      "outputs": [],
      "source": [
        "system(\"add-apt-repository -y ppa:marutter/rrutter\")\n",
        "system(\"add-apt-repository -y ppa:marutter/c2d4u\")\n",
        "system(\"apt-get update\")\n",
        "system(\"apt install -y r-cran-rstan\")"
      ]
    },
    {
      "attachments": {},
      "cell_type": "markdown",
      "metadata": {
        "id": "nShqDzvqC6Lx"
      },
      "source": [
        "### Install packages (all)"
      ]
    },
    {
      "cell_type": "code",
      "execution_count": 7,
      "metadata": {
        "colab": {
          "base_uri": "https://localhost:8080/"
        },
        "id": "SPYGePw53fWq",
        "outputId": "c9d224ed-eaa1-40e1-cff2-0887899e45c7"
      },
      "outputs": [
        {
          "name": "stderr",
          "output_type": "stream",
          "text": [
            "Installing package into ‘/usr/local/lib/R/site-library’\n",
            "(as ‘lib’ is unspecified)\n",
            "\n",
            "Installing package into ‘/usr/local/lib/R/site-library’\n",
            "(as ‘lib’ is unspecified)\n",
            "\n",
            "Installing packages into ‘/usr/local/lib/R/site-library’\n",
            "(as ‘lib’ is unspecified)\n",
            "\n",
            "Warning message:\n",
            "“dependencies ‘graph’, ‘RBGL’, ‘Rgraphviz’ are not available”\n",
            "also installing the dependencies ‘zoo’, ‘htmlwidgets’, ‘DEoptimR’, ‘lmtest’, ‘mnormt’, ‘pbivnorm’, ‘numDeriv’, ‘quadprog’, ‘ape’, ‘decor’, ‘igraphdata’, ‘rgl’, ‘vdiffr’, ‘abind’, ‘ggm’, ‘corpcor’, ‘robustbase’, ‘vcd’, ‘bdsmatrix’, ‘sfsmisc’, ‘fastICA’, ‘clue’, ‘RcppArmadillo’, ‘mvtnorm’, ‘huge’, ‘V8’, ‘markdown’, ‘lavaan’\n",
            "\n",
            "\n",
            "Warning message in install.packages(c(\"igraph\", \"pcalg\", \"dagitty\"), dependencies = TRUE):\n",
            "“installation of package ‘ggm’ had non-zero exit status”\n",
            "Warning message in install.packages(c(\"igraph\", \"pcalg\", \"dagitty\"), dependencies = TRUE):\n",
            "“installation of package ‘pcalg’ had non-zero exit status”\n",
            "Installing package into ‘/usr/local/lib/R/site-library’\n",
            "(as ‘lib’ is unspecified)\n",
            "\n",
            "also installing the dependencies ‘R.methodsS3’, ‘R.oo’, ‘R.utils’, ‘R.cache’, ‘R.rsp’, ‘XML’\n",
            "\n",
            "\n",
            "Installing package into ‘/usr/local/lib/R/site-library’\n",
            "(as ‘lib’ is unspecified)\n",
            "\n",
            "also installing the dependencies ‘httpuv’, ‘xtable’, ‘sourcetools’, ‘later’, ‘textshaping’, ‘lazyeval’, ‘shiny’, ‘downlit’, ‘ragg’, ‘rex’, ‘crosstalk’, ‘promises’, ‘clisymbols’, ‘cyclocomp’, ‘xmlparsedata’, ‘assertthat’, ‘parsedate’, ‘whoami’, ‘hunspell’, ‘miniUI’, ‘pkgdown’, ‘profvis’, ‘urlchecker’, ‘covr’, ‘DT’, ‘foghorn’, ‘gmailr’, ‘lintr’, ‘mockery’, ‘pingr’, ‘rhub’, ‘spelling’\n",
            "\n",
            "\n",
            "Warning message in install.packages(\"devtools\", dependencies = TRUE):\n",
            "“installation of package ‘textshaping’ had non-zero exit status”\n",
            "Warning message in install.packages(\"devtools\", dependencies = TRUE):\n",
            "“installation of package ‘ragg’ had non-zero exit status”\n",
            "Warning message in install.packages(\"devtools\", dependencies = TRUE):\n",
            "“installation of package ‘pkgdown’ had non-zero exit status”\n",
            "Warning message in install.packages(\"devtools\", dependencies = TRUE):\n",
            "“installation of package ‘devtools’ had non-zero exit status”\n"
          ]
        }
      ],
      "source": [
        "install.packages(\"BiocManager\")\n",
        "install.packages(\"matrixcalc\")\n",
        "install.packages(c(\"igraph\", \"pcalg\", \"dagitty\"), dependencies=TRUE)\n",
        "install.packages(\"causaleffect\", dependencies=TRUE)\n",
        "install.packages(\"devtools\", dependencies=TRUE)"
      ]
    },
    {
      "cell_type": "code",
      "execution_count": 8,
      "metadata": {
        "colab": {
          "base_uri": "https://localhost:8080/"
        },
        "id": "uKdVhYuSWV8r",
        "outputId": "26819e2c-370f-4d58-d661-568335071c51"
      },
      "outputs": [
        {
          "name": "stderr",
          "output_type": "stream",
          "text": [
            "'getOption(\"repos\")' replaces Bioconductor standard repositories, see\n",
            "'help(\"repositories\", package = \"BiocManager\")' for details.\n",
            "Replacement repositories:\n",
            "    CRAN: https://cran.rstudio.com\n",
            "\n",
            "Bioconductor version 3.17 (BiocManager 1.30.21), R 4.3.0 (2023-04-21)\n",
            "\n",
            "Installing package(s) 'BiocVersion', 'graph', 'RBGL', 'Rgraphviz'\n",
            "\n",
            "also installing the dependency ‘BiocGenerics’\n",
            "\n",
            "\n",
            "Old packages: 'bit', 'broom', 'bslib', 'curl', 'devtools', 'digest', 'gargle',\n",
            "  'gert', 'googledrive', 'googlesheets4', 'highr', 'isoband', 'jsonlite',\n",
            "  'pkgload', 'roxygen2', 'tidyverse', 'usethis', 'whisker', 'boot', 'foreign'\n",
            "\n",
            "Downloading GitHub repo adele/PAGId@HEAD\n",
            "\n"
          ]
        },
        {
          "name": "stdout",
          "output_type": "stream",
          "text": [
            "curl     (5.0.0 -> 5.0.1) [CRAN]\n",
            "jsonlite (1.8.3 -> 1.8.5) [CRAN]\n",
            "ggm      (NA    -> 2.5  ) [CRAN]\n",
            "pcalg    (NA    -> 2.7-8) [CRAN]\n"
          ]
        },
        {
          "name": "stderr",
          "output_type": "stream",
          "text": [
            "Skipping 2 packages not available: graph, RBGL\n",
            "\n",
            "Installing 4 packages: curl, jsonlite, ggm, pcalg\n",
            "\n",
            "Installing packages into ‘/usr/local/lib/R/site-library’\n",
            "(as ‘lib’ is unspecified)\n",
            "\n"
          ]
        },
        {
          "name": "stdout",
          "output_type": "stream",
          "text": [
            "\u001b[36m──\u001b[39m \u001b[36mR CMD build\u001b[39m \u001b[36m─────────────────────────────────────────────────────────────────\u001b[39m\n",
            "* checking for file ‘/tmp/RtmpgetQTp/remotes5485dc7fe3c/adele-PAGId-1dc096a/DESCRIPTION’ ... OK\n",
            "* preparing ‘PAGId’:\n",
            "* checking DESCRIPTION meta-information ... OK\n",
            "* checking for LF line-endings in source and make files and shell scripts\n",
            "* checking for empty or unneeded directories\n",
            "Omitted ‘LazyData’ from DESCRIPTION\n",
            "* building ‘PAGId_1.0.tar.gz’\n",
            "\n"
          ]
        },
        {
          "name": "stderr",
          "output_type": "stream",
          "text": [
            "Installing package into ‘/usr/local/lib/R/site-library’\n",
            "(as ‘lib’ is unspecified)\n",
            "\n"
          ]
        }
      ],
      "source": [
        "BiocManager::install(c(\"graph\", \"RBGL\", \"Rgraphviz\"))\n",
        "devtools::install_github(\"adele/PAGId\", dependencies=TRUE)"
      ]
    },
    {
      "attachments": {},
      "cell_type": "markdown",
      "metadata": {
        "id": "xcQyNoi5D51w"
      },
      "source": [
        "#### Helper functions"
      ]
    },
    {
      "cell_type": "code",
      "execution_count": 9,
      "metadata": {
        "colab": {
          "base_uri": "https://localhost:8080/"
        },
        "id": "sdyV67dk2vGx",
        "outputId": "108a9b01-afac-4c0e-c609-7d413b22fc3d"
      },
      "outputs": [
        {
          "name": "stderr",
          "output_type": "stream",
          "text": [
            "\n",
            "Attaching package: ‘dagitty’\n",
            "\n",
            "\n",
            "The following object is masked from ‘package:pcalg’:\n",
            "\n",
            "    randomDAG\n",
            "\n",
            "\n",
            "\n",
            "Attaching package: ‘causaleffect’\n",
            "\n",
            "\n",
            "The following object is masked from ‘package:utils’:\n",
            "\n",
            "    recover\n",
            "\n",
            "\n",
            "\n",
            "Attaching package: ‘igraph’\n",
            "\n",
            "\n",
            "The following object is masked from ‘package:matrixcalc’:\n",
            "\n",
            "    %s%\n",
            "\n",
            "\n",
            "The following object is masked from ‘package:dagitty’:\n",
            "\n",
            "    edges\n",
            "\n",
            "\n",
            "The following objects are masked from ‘package:stats’:\n",
            "\n",
            "    decompose, spectrum\n",
            "\n",
            "\n",
            "The following object is masked from ‘package:base’:\n",
            "\n",
            "    union\n",
            "\n",
            "\n"
          ]
        }
      ],
      "source": [
        "library(pcalg)\n",
        "library(dagitty)\n",
        "library(MASS)\n",
        "library(matrixcalc)\n",
        "library(causaleffect)\n",
        "library(igraph)\n",
        "library(PAGId)\n",
        "\n",
        "####################\n",
        "# Helper Functions #\n",
        "####################\n",
        "\n",
        "# A <- f(Ua) = Ua\n",
        "# D <- f(Ucd, Ud) = beta_D.Ucd * Ucd + Ud\n",
        "# B <- f(A, D, Ub) = beta_B.A * A - beta_B.D * D + Ub\n",
        "# C <- f(Ucd, B, Uc) = beta_C.B * B - beta_C.Ucd * Ucd + Uc\n",
        "# betaList is a list with entries for:\n",
        "# beta_D.Ucd, beta_B.A, beta_B.D, beta_C.Ucd, and beta_C.B\n",
        "# if betaList is NULL, then coefficients are randomly selected\n",
        "getBDSEM <- function(betaList=NULL) {\n",
        "  allvars <- c(\"A\", \"B\", \"C\", \"D\", \"Ucd\")\n",
        "  p <- length(allvars)\n",
        "  beta <- matrix(0, p, p)\n",
        "  colnames(beta) <- rownames(beta) <- allvars\n",
        "  topolOrd <- c( \"Ucd\", \"A\", \"D\", \"B\", \"C\")\n",
        "\n",
        "  if (is.null(betaList)) {\n",
        "    betaList <- as.list(sample(c(-1, 1), p, replace = T) * runif(p, 0.3, 0.7))\n",
        "    names(betaList) <- c(\"beta_D.Ucd\", \"beta_B.A\", \"beta_B.D\", \"beta_C.Ucd\", \"beta_C.B\")\n",
        "  }\n",
        "\n",
        "  beta[\"Ucd\",\"D\"] <- betaList$beta_D.Ucd; # coeff of Ucd in the function for d\n",
        "  beta[\"A\", \"B\"] <- betaList$beta_B.A; # coeff of a in the function for b\n",
        "  beta[\"D\", \"B\"] <- betaList$beta_B.D; # coeff of d in the function for b\n",
        "  beta[\"Ucd\", \"C\"] <- betaList$beta_C.Ucd; # coeff of Ucd in the function for c\n",
        "  beta[\"B\", \"C\"] <- betaList$beta_C.B; # coeff of b in the function for c\n",
        "\n",
        "  # Note that beta is triangular, implying that the SEM is recursive (or acyclic)\n",
        "  beta <- beta[topolOrd, topolOrd]\n",
        "  lat <- c(\"Ucd\")\n",
        "\n",
        "  return(list(beta=beta, lat=lat))\n",
        "}\n",
        "\n",
        "# The SEM is constructed as\n",
        "# Y = beta Y + eps, where\n",
        "# beta is a matrix of the coefficients for all variables (V and U)\n",
        "generateDatasetFromSEM <- function(beta, lat, N) {\n",
        "  p <- ncol(beta)\n",
        "  ident <- diag(1, p, p)\n",
        "  colnames(ident) <- rownames(ident) <- colnames(beta)\n",
        "  # Or, similarly,\n",
        "  # Y = (I - Beta)^{-1} eps\n",
        "  # For Gaussian Y and errors eps independent from each other (we have all the Us),\n",
        "  # we just need to simulate Y from a multivariate distribution\n",
        "  # of mean zero and cov Sigma=I\n",
        "  IminusBinv <- ginv(ident - beta)\n",
        "  Sigma = t(IminusBinv) %*% ident %*% IminusBinv\n",
        "\n",
        "  valR <- matrixcalc::is.symmetric.matrix(Sigma) &&\n",
        "    matrixcalc::is.positive.definite(Sigma, tol=1e-8)\n",
        "  if (!valR) {\n",
        "    stop(\"This SEM generates a non-positive definite covariance matrix. Try another SEM.\")\n",
        "  }\n",
        "\n",
        "  dat <-  MASS::mvrnorm(N, rep(0, p), Sigma, empirical = FALSE)\n",
        "  dat <- as.data.frame(dat)\n",
        "  colnames(dat) <- colnames(beta)\n",
        "  head(dat)\n",
        "\n",
        "  uvars <- which(colnames(dat) %in% lat)\n",
        "  dat <- dat[,-uvars]\n",
        "\n",
        "  return(dat)\n",
        "}\n",
        "\n",
        "# Randomly generate a linear SEM following a dagitty DAG, adag,\n",
        "# and then draw samples from it.\n",
        "generateDatasetFromDAG <- function(adag, N, ntries=30) {\n",
        "  done <- FALSE\n",
        "  tries <- 0\n",
        "  obs.dat <- NULL\n",
        "  while (!done && tries <= ntries) {\n",
        "    done <- tryCatch(\n",
        "      {\n",
        "        obs.dat <- dagitty::simulateSEM(adag, b.lower = -0.6, b.upper = 0.6, N=N)\n",
        "        R <- cor(obs.dat)\n",
        "        valR <- matrixcalc::is.symmetric.matrix(R) &&\n",
        "          matrixcalc::is.positive.definite(R, tol=1e-8)\n",
        "        valR\n",
        "      }, error=function(cond) {\n",
        "        message(cond)\n",
        "        FALSE\n",
        "      })\n",
        "    tries <- tries + 1\n",
        "  }\n",
        "  return(obs.dat)\n",
        "}\n",
        "\n",
        "dagittyOracleCI <- function(x, y, S, suffStat) {\n",
        "  g <- suffStat$g\n",
        "  labels <- names(g)\n",
        "  if (dagitty::dseparated(g, labels[x], labels[y], labels[S])) {\n",
        "    return(1)\n",
        "  } else {\n",
        "    return(0)\n",
        "  }\n",
        "}\n",
        "\n",
        "# receives a dagitty g of type \"dag\" or \"mag\" and returns\n",
        "# the true PAG as an pcalg fci object\n",
        "getTruePAG <- function(g, verbose = FALSE) {\n",
        "  indepTest <- dagittyOracleCI\n",
        "  if (graphType(g) == \"dag\") {\n",
        "    g <- dagitty::toMAG(g)\n",
        "  }\n",
        "  suffStat <- list(g=g)\n",
        "  truePag <- pcalg::fci(suffStat,\n",
        "                        indepTest = indepTest,\n",
        "                        labels= names(suffStat$g), alpha = 0.9999,\n",
        "                        verbose = verbose)\n",
        "  return(truePag)\n",
        "}\n",
        "\n",
        "igraph_from_graphNel <- function(graphN, latNodes){\n",
        "  igraph_dag <- igraph::igraph.from.graphNEL(graphN, weight = FALSE)\n",
        "  for (n in latNodes) {\n",
        "    adj_list <- graphN@edgeL[[n]]$edges\n",
        "    if (length(adj_list) == 2) {\n",
        "      igraph_dag <- igraph::add_edges(igraph_dag, c(adj_list[1], adj_list[2], adj_list[2], adj_list[1]))\n",
        "      igraph_dag <- igraph::set.edge.attribute(graph = igraph_dag,\n",
        "                                               name =\"description\",\n",
        "                                               index = c(length(igraph::E(igraph_dag))-1, length(igraph::E(igraph_dag))), value = \"U\")\n",
        "    }\n",
        "  }\n",
        "  for (n in latNodes){\n",
        "    igraph_dag <- igraph::delete_vertices(igraph_dag, n)\n",
        "  }\n",
        "  return(igraph_dag)\n",
        "}\n",
        "\n",
        "\n",
        "# A -> B -> C; B <- D <- Ucd -> C\n",
        "getBDGraph <- function() {\n",
        "  allvars <- c(\"A\", \"B\", \"C\", \"D\", \"Ucd\")\n",
        "  p <- length(allvars)\n",
        "  amat <- matrix(0, p, p)\n",
        "  colnames(amat) <- rownames(amat) <- allvars\n",
        "  amat[\"A\",\"B\"] <- 0; amat[\"B\",\"A\"] <- 1; # a -> b\n",
        "  amat[\"B\",\"C\"] <- 0; amat[\"C\",\"B\"] <- 1; # b -> c\n",
        "  amat[\"D\",\"B\"] <- 0; amat[\"B\",\"D\"] <- 1; # d -> b\n",
        "  amat[\"Ucd\",\"C\"] <- 0; amat[\"C\",\"Ucd\"] <- 1; # Ucd -> c\n",
        "  amat[\"Ucd\",\"D\"] <- 0; amat[\"D\",\"Ucd\"] <- 1; # Ucd -> c\n",
        "\n",
        "  lat <- c(\"Ucd\")\n",
        "  adag <- pcalg::pcalg2dagitty(amat, colnames(amat), type=\"dag\")\n",
        "  dagitty::latents(adag) <- lat\n",
        "\n",
        "  return(list(adag=adag, amat=amat, lat=lat))\n",
        "}\n",
        "\n",
        "# DAG in Fig. 2b) at https://causalai.net/r42.pdf\n",
        "getDAG2bR42 <- function(ret_dagg = TRUE) {\n",
        "  allvars <- c(\"x1\", \"x2\", \"y1\", \"y2\", \"y3\", \"y4\", \"y5\", \"ux1x2\", \"uy2y3\", \"uy4y5\", \"ux1y3\", \"ux2y1\")\n",
        "  p <- length(allvars)\n",
        "  amat <- matrix(0, p, p)\n",
        "  colnames(amat) <- rownames(amat) <- allvars\n",
        "  amat[\"x2\", \"y2\"] <- 0; amat[\"y2\", \"x2\"] <- 1; # x2 -> y2\n",
        "  amat[\"x1\", \"y1\"] <- 0; amat[\"y1\", \"x1\"] <- 1; # x1 -> y1\n",
        "  amat[\"y4\", \"y3\"] <- 0; amat[\"y3\", \"y4\"] <- 1; # y4 -> y3\n",
        "  amat[\"y5\", \"y1\"] <- 0; amat[\"y1\", \"y5\"] <- 1; # y5 -> y1\n",
        "  amat[\"y5\", \"y4\"] <- 0; amat[\"y4\", \"y5\"] <- 1; # y5 -> y4\n",
        "  amat[\"ux1x2\", \"x1\"] <- 0; amat[\"x1\", \"ux1x2\"] <- 1; # ux1x2 -> x1\n",
        "  amat[\"ux1x2\", \"x2\"] <- 0; amat[\"x2\", \"ux1x2\"] <- 1; # ux1x2 -> x2\n",
        "  amat[\"uy2y3\", \"y2\"] <- 0; amat[\"y2\", \"uy2y3\"] <- 1; # uy2y3 -> y2\n",
        "  amat[\"uy2y3\", \"y3\"] <- 0; amat[\"y3\", \"uy2y3\"] <- 1; # uy2y3 -> y3\n",
        "  amat[\"uy4y5\", \"y4\"] <- 0; amat[\"y4\", \"uy4y5\"] <- 1; # uy4y5 -> y4\n",
        "  amat[\"uy4y5\", \"y5\"] <- 0; amat[\"y5\", \"uy4y5\"] <- 1; # uy4y5 -> y5\n",
        "  amat[\"ux1y3\", \"x1\"] <- 0; amat[\"x1\", \"ux1y3\"] <- 1; # ux1y3 -> x1\n",
        "  amat[\"ux1y3\", \"y3\"] <- 0; amat[\"y3\", \"ux1y3\"] <- 1; # ux1y3 -> y3\n",
        "  amat[\"ux2y1\", \"x2\"] <- 0; amat[\"x2\", \"ux2y1\"] <- 1; # ux2y1 -> x2\n",
        "  amat[\"ux2y1\", \"y1\"] <- 0; amat[\"y1\", \"ux2y1\"] <- 1; # ux2y1 -> y1\n",
        "  # plot(as(t(amat), \"graphNEL\"))\n",
        "\n",
        "  lat <- c(\"ux1x2\", \"uy2y3\", \"uy4y5\", \"ux1y3\", \"ux2y1\")\n",
        "\n",
        "  adag <- pcalg::pcalg2dagitty(amat, colnames(amat),type=\"dag\")\n",
        "\n",
        "  dagitty::latents(adag) <- lat\n",
        "  return(list(adag=adag, amat=amat, lat=lat))\n",
        "}\n",
        "\n",
        "# returns an pcalg amat (adjacency matrix) of type amat.pag (same type for MAGs),\n",
        "# where:\n",
        "# 0: No edge\n",
        "# 1: Circle\n",
        "# 2: Arrowhead\n",
        "# 3: Tail\n",
        "dagitty2amat <- function(adagg, type=\"mag\") {\n",
        "  edg <- dagitty:::edges(adagg)\n",
        "  node_names <- dagitty:::names.dagitty(adagg)\n",
        "  ans_mat <- matrix(\n",
        "    data = 0, nrow = length(node_names),\n",
        "    ncol = length(node_names),\n",
        "    dimnames = list(node_names, node_names)\n",
        "  )\n",
        "\n",
        "  diredg <- subset(edg, e == \"->\")\n",
        "\n",
        "  ans_mat[as.matrix(diredg[c(\"w\", \"v\")])] <- 3\n",
        "  ans_mat[as.matrix(diredg[c(\"v\", \"w\")])] <- 2\n",
        "\n",
        "  bidiredg <-  subset(edg, e == \"<->\")\n",
        "  ans_mat[as.matrix(bidiredg[c(\"w\", \"v\")])] <- 2\n",
        "  ans_mat[as.matrix(bidiredg[c(\"v\", \"w\")])] <- 2\n",
        "\n",
        "  return(ans_mat)\n",
        "}\n",
        "\n",
        "# type can be \"pag\" or \"dag\"\n",
        "getMAG <- function(amat, type=\"pag\") {\n",
        "  if (type == \"pag\") {\n",
        "    amat.mag <- pcalg::pag2magAM(amat, 1)\n",
        "    #plotAG(amat.mag)\n",
        "    magg <- pcalg::pcalg2dagitty(amat.mag, colnames(amat.mag), type=\"mag\")\n",
        "    #plot(magg)\n",
        "  } else {\n",
        "    adagg <- pcalg::pcalg2dagitty(amat, colnames(amat), type=\"dag\")\n",
        "    magg <- dagitty::toMAG(adagg)\n",
        "    amat.mag <- dagitty2amat(magg, type=\"mag\")\n",
        "  }\n",
        "  return(list(amat.mag = amat.mag, magg=magg))\n",
        "}\n"
      ]
    },
    {
      "attachments": {},
      "cell_type": "markdown",
      "metadata": {
        "id": "BR51119AEKB6"
      },
      "source": [
        "# Running the example"
      ]
    },
    {
      "attachments": {},
      "cell_type": "markdown",
      "metadata": {
        "id": "qtI0br4ZhMhl"
      },
      "source": [
        "#### 1. Constructing the Structural Causal Model and corresponding Causal Diagram"
      ]
    },
    {
      "cell_type": "code",
      "execution_count": 1,
      "metadata": {
        "colab": {
          "base_uri": "https://localhost:8080/",
          "height": 97
        },
        "id": "92pG3cPlEXeR",
        "outputId": "801baba6-1fd7-43a7-fa0a-04b71c460830"
      },
      "outputs": [
        {
          "ename": "ERROR",
          "evalue": "ignored",
          "output_type": "error",
          "traceback": [
            "Error in getBDSEM(): could not find function \"getBDSEM\"\nTraceback:\n"
          ]
        }
      ],
      "source": [
        "#########################################\n",
        "# Constructing the true Causal Diagram  #\n",
        "#########################################\n",
        "\n",
        "# Getting the true causal diagram\n",
        "trueDAG.out <- getDAG2bR42()\n",
        "trueDAG.dag <- trueDAG.out$adag # a dagitty object\n",
        "\n",
        "# Note: this plots the DAG including the U's variables\n",
        "plot(trueDAG.dag)\n",
        "\n",
        "# Getting the ADMG corresponding to the true DAG\n",
        "trueDAG.amat <- trueDAG.out$amat # the adjacency matrix following the pcalg notation\n",
        "trueDAG.gNEL <- as(t(trueDAG.out$amat), \"graphNEL\")\n",
        "trueADMG.ig <- igraph_from_graphNel(trueDAG.gNEL, latents(trueDAG.dag))\n",
        "\n",
        "# Note: this plots the causal diagram with bidirected edges indicating unmeasured confounders\n",
        "plot(trueADMG.ig)\n"
      ]
    },
    {
      "attachments": {},
      "cell_type": "markdown",
      "metadata": {
        "id": "sVW0ue70hBkD"
      },
      "source": [
        "#### 2. Checkings for ADMG/MAG"
      ]
    },
    {
      "cell_type": "code",
      "execution_count": null,
      "metadata": {
        "id": "Lh-V8E8Phs9y"
      },
      "outputs": [],
      "source": [
        "###################################################\n",
        "# Checking the conditional independence relations #\n",
        "# implied by the true Causal Diagram              #\n",
        "###################################################\n",
        "\n",
        "# Getting the minimal conditional independence relationships over the observed variables,\n",
        "# implied by the true ADMG -- obtained by minimal d-separators\n",
        "trueImpliedCI <- dagitty::impliedConditionalIndependencies(trueDAG.dag, type = \"missing.edge\")\n",
        "print(trueImpliedCI)\n"
      ]
    },
    {
      "attachments": {},
      "cell_type": "markdown",
      "metadata": {
        "id": "LgZD--7zhlDY"
      },
      "source": [
        "#### 3. Causal Effect Identification from the ADMG"
      ]
    },
    {
      "attachments": {},
      "cell_type": "markdown",
      "metadata": {},
      "source": [
        "##### 3.A. Identification through Adjustment"
      ]
    },
    {
      "cell_type": "code",
      "execution_count": null,
      "metadata": {},
      "outputs": [],
      "source": [
        "################################################################\n",
        "# Checking if P(y1,y2,y3,y4,y5|do(x1,x2)) is identifiable      #\n",
        "# from the ADMG/MAG using the generalized adjustment criterion #\n",
        "################################################################\n",
        "\n",
        "x <- 1:2\n",
        "y <- 3:7\n",
        "\n",
        "mag <- dagitty::toMAG(trueDAG.dag)\n",
        "amat.mag <- dagitty2amat(mag, type=\"mag\")\n",
        "\n",
        "adj <- adjustment(amat = amat.mag,\n",
        "                  amat.type = \"mag\", x = x, y = y,\n",
        "                  set.type = \"all\")\n",
        "print(adj) # There is no valid adjustment set for X={X1,X2} and Y={Y1,Y2,Y3,Y4,Y5}\n"
      ]
    },
    {
      "attachments": {},
      "cell_type": "markdown",
      "metadata": {},
      "source": [
        "##### 3.B. Identification through Id Algorithm"
      ]
    },
    {
      "cell_type": "code",
      "execution_count": null,
      "metadata": {
        "id": "L9NWpAj0iUw-"
      },
      "outputs": [],
      "source": [
        "\n",
        "########################################################\n",
        "# Identifying causal effect P(y |do(x)) from the ADMG  #\n",
        "########################################################\n",
        "\n",
        "x <- c(\"x1\", \"x2\")\n",
        "y <- c(\"y1\", \"y2\", \"y3\", \"y4\", \"y5\")\n",
        "z <- NULL\n",
        "\n",
        "\n",
        "exprDAG <- causaleffect::causal.effect(y=y, x=x, z=z,\n",
        "                                       G = trueADMG.ig,\n",
        "                                       expr = TRUE,\n",
        "                                       simp = TRUE)\n",
        "print(paste0(\"ID from DAG: \", exprDAG))\n",
        "\n",
        "# to see all steps applied by the ID algorithm,\n",
        "# use expr = FALSE and steps = TRUE.\n",
        "retDAG <- causaleffect::causal.effect(y=y, x=x, z=z,\n",
        "                                      G = trueADMG.ig,\n",
        "                                      expr = FALSE,\n",
        "                                      simp = TRUE,\n",
        "                                      steps = TRUE)\n",
        "#print(retDAG)\n"
      ]
    },
    {
      "attachments": {},
      "cell_type": "markdown",
      "metadata": {
        "id": "ywgiSPxDiJLK"
      },
      "source": [
        "#### 4. Simulating data from the true DAG"
      ]
    },
    {
      "cell_type": "code",
      "execution_count": null,
      "metadata": {
        "id": "jzxr57gHijQc"
      },
      "outputs": [],
      "source": [
        "#####################################\n",
        "# Simulating data from the true DAG #\n",
        "#####################################\n",
        "\n",
        "N = 10000 # try different values of N\n",
        "#seed = ceiling(runif(1, 0, 10000))\n",
        "seed = 3632\n",
        "set.seed(seed)\n",
        "\n",
        "# The following function generates a random linear Gaussian SCM\n",
        "# compatible with the true DAG and then samples from it:\n",
        "dat <- generateDatasetFromDAG(adag = trueDAG.dag, N=N)\n",
        "head(dat)\n"
      ]
    },
    {
      "attachments": {},
      "cell_type": "markdown",
      "metadata": {},
      "source": [
        "#### 5. Checking expected dependencies and independencies in data"
      ]
    },
    {
      "cell_type": "code",
      "execution_count": null,
      "metadata": {},
      "outputs": [],
      "source": [
        "\n",
        "#########################################################\n",
        "# Testing some expected dependencies and independencies #\n",
        "#########################################################\n",
        "\n",
        "# For Gaussian data, partial correlation tests (Fisher's Z test)\n",
        "# can be used to assess conditional independencies\n",
        "# For other data types, appropriate conditional independence tests should be used.\n",
        "indepTest <- pcalg::gaussCItest\n",
        "alpha <- 0.05\n",
        "suffStat <- list(C = cor(dat), n = N)\n",
        "\n",
        "X1ind <- 1\n",
        "X2ind <- 2\n",
        "Y1ind <- 3\n",
        "Y2ind <- 4\n",
        "Y3ind <- 5\n",
        "Y4ind <- 6\n",
        "Y5ind <- 7\n",
        "\n",
        "# some dependencies:\n",
        "p_x1y4.y3 <- indepTest(X1ind, Y4ind, Y3ind, suffStat)\n",
        "p_x1y5.y1 <- indepTest(X1ind, Y5ind, Y1ind, suffStat)\n",
        "p_x2y3.y2 <- indepTest(X2ind, Y3ind, Y2ind, suffStat)\n",
        "p_y3y1.y5 <- indepTest(Y3ind, Y1ind, Y5ind, suffStat)\n",
        "p_y3y5 <- indepTest(Y3ind, Y5ind, c(), suffStat)\n",
        "\n",
        "dep_p <- c(p_x1y4.y3, p_x1y5.y1, p_x2y3.y2, p_y3y1.y5, p_y3y5)\n",
        "print(all(dep_p < alpha))\n",
        "\n",
        "\n",
        "# minimal indepedencies\n",
        "p_x1y2.x2 <- indepTest(X1ind, Y2ind, X2ind, suffStat)\n",
        "p_x1y4 <- indepTest(X1ind, Y4ind, c(), suffStat)\n",
        "p_x1y5 <- indepTest(X1ind, Y5ind, c(), suffStat)\n",
        "p_x2y3 <- indepTest(X2ind, Y3ind, c(), suffStat)\n",
        "p_x2y4 <- indepTest(X2ind, Y4ind, c(), suffStat)\n",
        "p_x2y5 <- indepTest(X2ind, Y5ind, c(), suffStat)\n",
        "\n",
        "p_y1y2.x2 <- indepTest(Y1ind, Y2ind, X2ind, suffStat)\n",
        "p_y1y3.x1y4 <- indepTest(Y1ind, Y3ind, c(X1ind, Y4ind), suffStat)\n",
        "p_y1y3.x1y5 <- indepTest(Y1ind, Y3ind, c(X1ind, Y5ind), suffStat)\n",
        "p_y1y4.y5 <- indepTest(Y1ind, Y4ind, Y5ind, suffStat)\n",
        "\n",
        "p_y2y4 <- indepTest(Y2ind, Y4ind, c(), suffStat)\n",
        "p_y2y5 <- indepTest(Y2ind, Y5ind, c(), suffStat)\n",
        "p_y3y5.y4 <- indepTest(Y3ind, Y5ind, Y4ind, suffStat)\n",
        "\n",
        "indep_p <- c(p_x1y2.x2, p_x1y4, p_x1y5, p_x2y3, p_x2y4, p_x2y5, p_y1y2.x2,\n",
        "      p_y1y3.x1y4, p_y1y3.x1y5, p_y1y4.y5, p_y2y4, p_y2y5, p_y3y5.y4)\n",
        "print(all(indep_p >= alpha))"
      ]
    },
    {
      "attachments": {},
      "cell_type": "markdown",
      "metadata": {
        "id": "gCmN_QIYif0B"
      },
      "source": [
        "#### 6. Causal Discovery: Estimating a PAG using **FCI**"
      ]
    },
    {
      "cell_type": "code",
      "execution_count": null,
      "metadata": {
        "id": "XK2u9q2qi7J-"
      },
      "outputs": [],
      "source": [
        "###############################\n",
        "# Estimating a PAG using FCI  #\n",
        "###############################\n",
        "\n",
        "# Get the PAG using the true ADMG as an oracle of cond. indep. relationships\n",
        "truePAG <- getTruePAG(trueDAG.dag, verbose = TRUE)\n",
        "plot(truePAG)\n",
        "\n",
        "\n",
        "# For Gaussian data, partial correlation tests (Fisher's Z test)\n",
        "# can be used to assess conditional independencies\n",
        "# For other data types, appropriate conditional independence tests should be used.\n",
        "indepTest <- pcalg::gaussCItest\n",
        "alpha <- 0.05\n",
        "suffStat <- list(C = cor(dat), n = N)\n",
        "estPAG <- pcalg::fci(suffStat,\n",
        "                     indepTest = indepTest,\n",
        "                     labels= colnames(dat), alpha = alpha,\n",
        "                     verbose = TRUE)\n",
        "plot(estPAG)\n",
        "\n",
        "# True and estimated PAGs are identical\n",
        "print(all(truePAG@amat - estPAG@amat == 0))"
      ]
    },
    {
      "attachments": {},
      "cell_type": "markdown",
      "metadata": {
        "id": "hxqLvp99i2ZM"
      },
      "source": [
        "#### 7. Checkings for the PAG"
      ]
    },
    {
      "cell_type": "code",
      "execution_count": null,
      "metadata": {
        "id": "VH-9nbk_g3pg"
      },
      "outputs": [],
      "source": [
        "###################################################\n",
        "# Checking the conditional independence relations #\n",
        "# implied by the estimated PAG                    #\n",
        "###################################################\n",
        "\n",
        "# Getting the minimal conditional independence relationships\n",
        "# implied by the estimated PAG\n",
        "# This can be obtained by computing the minimal d-separators in\n",
        "# any MAG that is member of the PAG\n",
        "amat.mag <- pcalg::pag2magAM(estPAG@amat, 1)\n",
        "plotAG(amat.mag)\n",
        "amag <- pcalg::pcalg2dagitty(amat.mag, colnames(amat.mag), type=\"mag\")\n",
        "\n",
        "estImpliedCI <- dagitty::impliedConditionalIndependencies(amag)\n",
        "print(estImpliedCI)\n"
      ]
    },
    {
      "attachments": {},
      "cell_type": "markdown",
      "metadata": {
        "id": "kXJoi-00jCh4"
      },
      "source": [
        "#### 8. Causal Effect Identification from the PAG"
      ]
    },
    {
      "attachments": {},
      "cell_type": "markdown",
      "metadata": {},
      "source": [
        "##### 8.A. Identification through Adjustment "
      ]
    },
    {
      "cell_type": "code",
      "execution_count": null,
      "metadata": {
        "id": "FwmAvOZcEWXN"
      },
      "outputs": [],
      "source": [
        "\n",
        "###########################################################\n",
        "# Checking if P(y1,y2,y3,y4,y5|do(x1,x2)) is identifiable #\n",
        "# from the PAG using generalized adjustment criterion.    #\n",
        "###########################################################\n",
        "\n",
        "#P_{x1,x2}(y1,y2,y3,y4,y5)\n",
        "Xinds <- c(1,2)\n",
        "Yinds <- 3:7\n",
        "\n",
        "x <- Xinds\n",
        "y <- Yinds\n",
        "\n",
        "# adjacency matrix of the estimated PAG following the pcalg notation\n",
        "estPAG.amat <- estPAG@amat\n",
        "\n",
        "adj <- adjustment(amat = estPAG.amat, amat.type = \"pag\", x = x, y = y, set.type = \"all\")\n",
        "print(adj) # There is no valid adjustment set for X={A, F} and Y={Y}\n",
        "\n",
        "\n",
        "# Testing if the particular set {} is valid for adjustment:\n",
        "z <- c()\n",
        "gac_z <- gac(estPAG.amat, x, y, z, type = \"pag\")\n",
        "print(gac_z$gac) # the set is not valid for adjustment\n",
        "\n",
        "# the third condition of the gac is violated, i.e.,\n",
        "# not all proper definite status non-causal paths from x to y are blocked by z\n",
        "print(gac_z$res)\n",
        "\n",
        "\n"
      ]
    },
    {
      "attachments": {},
      "cell_type": "markdown",
      "metadata": {},
      "source": [
        "##### 8.B Identification through PAG-Id Algorithm "
      ]
    },
    {
      "cell_type": "code",
      "execution_count": null,
      "metadata": {},
      "outputs": [],
      "source": [
        "########################################################\n",
        "# Identifying P(y1,y2,y3,y4,y5|do(x1,x2)) from the PAG #\n",
        "# using the CIDP algorithm                             #\n",
        "########################################################\n",
        "\n",
        "x <- c(\"x1\", \"x2\")\n",
        "y <- c(\"y1\", \"y2\", \"y3\", \"y4\", \"y5\")\n",
        "z <- NULL\n",
        "\n",
        "\n",
        "# adjacency matrix of the estimated PAG following the pcalg notation\n",
        "estPAG.amat <- estPAG@amat\n",
        "\n",
        "retPAG <- CIDP(estPAG.amat, x, y, z)\n",
        "print(retPAG$id)\n",
        "print(paste0(\"ID from PAG: \", retPAG$Qexpr[[retPAG$query]]))\n",
        "\n",
        "# This shows the steps taken by the CIDP algorithm\n",
        "# by substitution and simplification, we will get the same\n",
        "# identification formula from the ADMG\n",
        "print(retPAG$Qexpr)"
      ]
    }
  ],
  "metadata": {
    "colab": {
      "collapsed_sections": [
        "HnqnnK8eCxZP",
        "qtI0br4ZhMhl",
        "sVW0ue70hBkD",
        "LgZD--7zhlDY",
        "ywgiSPxDiJLK",
        "gCmN_QIYif0B",
        "hxqLvp99i2ZM",
        "kXJoi-00jCh4"
      ],
      "provenance": []
    },
    "kernelspec": {
      "display_name": "R",
      "name": "ir"
    }
  },
  "nbformat": 4,
  "nbformat_minor": 0
}
